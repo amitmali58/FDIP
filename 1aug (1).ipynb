{
 "cells": [
  {
   "cell_type": "code",
   "execution_count": 2,
   "id": "e2331d9c-7778-4ce6-9337-127d34d3135c",
   "metadata": {},
   "outputs": [
    {
     "name": "stdout",
     "output_type": "stream",
     "text": [
      "Requirement already satisfied: pillow in c:\\users\\ml\\anaconda3\\lib\\site-packages (10.3.0)\n",
      "Note: you may need to restart the kernel to use updated packages.\n"
     ]
    }
   ],
   "source": [
    "pip install pillow"
   ]
  },
  {
   "cell_type": "code",
   "execution_count": 16,
   "id": "fdad3010-88b9-4214-a22b-4a634dd2c04b",
   "metadata": {},
   "outputs": [],
   "source": [
    "from PIL import Image, ImageDraw, ImageFont\n",
    "\n",
    "image = Image.open(r\"C:\\\\Users\\\\ML\\\\Downloads\\\\i2.jpg\")\n",
    "\n",
    "draw = ImageDraw.Draw(image)\n",
    "font = ImageFont.truetype(\"arial.ttf\", 20)\n",
    "text = \"Hello, World!\"\n",
    "position = (50, 50)\n",
    "color = (255, 0, 255)\n",
    "draw.text(position, text, fill=color, font=font)\n",
    "\n",
    "image.show()"
   ]
  },
  {
   "cell_type": "code",
   "execution_count": 12,
   "id": "e3d2d9ba-1bfd-43ec-9577-b10fe3d7c4c4",
   "metadata": {},
   "outputs": [],
   "source": [
    "from PIL import Image\n",
    "\n",
    "image = Image.open(r\"C:\\\\Users\\\\ML\\\\Downloads\\\\i2.jpg\").convert(\"RGBA\")\n",
    "watermark = Image.open(r\"C:\\Users\\ML\\Desktop\\logo.jpg\").convert(\"RGBA\")\n",
    "\n",
    "width, height = image.size\n",
    "watermark = watermark.resize((width // 3, height // 3), Image.Resampling.LANCZOS)\n",
    "\n",
    "# position = (width - watermark.width - 1, height - watermark.height - 1)\n",
    "position = (width - watermark.width - 1, 1)\n",
    "\n",
    "mask = watermark.split()[3]\n",
    "\n",
    "image.paste(watermark, position, mask)\n",
    "image.show()\n"
   ]
  },
  {
   "cell_type": "code",
   "execution_count": 18,
   "id": "189245d1-4958-4ec8-b401-a14c410ba7b9",
   "metadata": {},
   "outputs": [],
   "source": [
    "from PIL import ImageEnhance\n",
    "\n",
    "image = Image.open(r\"C:\\\\Users\\\\ML\\\\Downloads\\\\i2.jpg\")\n",
    "\n",
    "enhancer = ImageEnhance.Brightness(image)\n",
    "brightened_image = enhancer.enhance(1.3)\n",
    "\n",
    "enhancer = ImageEnhance.Contrast(brightened_image)\n",
    "contrasted_image = enhancer.enhance(1.2)\n",
    "\n",
    "contrasted_image.show()"
   ]
  },
  {
   "cell_type": "code",
   "execution_count": null,
   "id": "b04d1054-ec5d-42e1-aef0-ced0a88d5677",
   "metadata": {},
   "outputs": [],
   "source": []
  }
 ],
 "metadata": {
  "kernelspec": {
   "display_name": "Python 3 (ipykernel)",
   "language": "python",
   "name": "python3"
  },
  "language_info": {
   "codemirror_mode": {
    "name": "ipython",
    "version": 3
   },
   "file_extension": ".py",
   "mimetype": "text/x-python",
   "name": "python",
   "nbconvert_exporter": "python",
   "pygments_lexer": "ipython3",
   "version": "3.12.4"
  }
 },
 "nbformat": 4,
 "nbformat_minor": 5
}
